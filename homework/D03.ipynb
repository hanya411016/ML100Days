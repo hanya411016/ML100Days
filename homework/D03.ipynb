{
 "cells": [
  {
   "cell_type": "code",
   "execution_count": 4,
   "id": "seventh-validity",
   "metadata": {},
   "outputs": [
    {
     "name": "stdout",
     "output_type": "stream",
     "text": [
      "60.0\n"
     ]
    }
   ],
   "source": [
    "import numpy as np\n",
    "\n",
    "# V0 為 20μPa\n",
    "v0= 20\n",
    "\n",
    "# 正常的談話的聲壓為 20000 微巴斯卡，請問多少分貝?\n",
    "v1=20000\n",
    "Gdb=20* np.log10(v1/v0 )\n",
    "print(Gdb)"
   ]
  },
  {
   "cell_type": "code",
   "execution_count": 9,
   "id": "ambient-excess",
   "metadata": {},
   "outputs": [
    {
     "name": "stdout",
     "output_type": "stream",
     "text": [
      "0.09999999999999999\n"
     ]
    }
   ],
   "source": [
    "# 30 分貝的聲壓會是 50 分貝的幾倍?\n",
    "# V= 10^(GdB/20) * V0\n",
    "A= np.power(10, 30/20) *20\n",
    "B= np.power(10, 50/20) *20\n",
    "print(A/B)\n"
   ]
  }
 ],
 "metadata": {
  "kernelspec": {
   "display_name": "Python 3",
   "language": "python",
   "name": "python3"
  },
  "language_info": {
   "codemirror_mode": {
    "name": "ipython",
    "version": 3
   },
   "file_extension": ".py",
   "mimetype": "text/x-python",
   "name": "python",
   "nbconvert_exporter": "python",
   "pygments_lexer": "ipython3",
   "version": "3.6.2"
  }
 },
 "nbformat": 4,
 "nbformat_minor": 5
}
